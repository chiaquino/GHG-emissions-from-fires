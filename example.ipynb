{
 "cells": [
  {
   "cell_type": "markdown",
   "id": "34c8bd1c-0493-435e-bc01-c16db022ea1b",
   "metadata": {},
   "source": [
    "# Retrieve GHG emissions from forest fires\n",
    "\n",
    "_Author_: Chiara Aquino\n",
    "<br>\n",
    "_Date_: 12 January 2024\n",
    "\n",
    "This script provides the functions used to calculate GHG emissions from forest fires. GHG emissions are calculated using the model from in Chiriacò et al.(2013):\n",
    "\n",
    "    GHG emissions = A x B x C x D x 10-6 \n",
    "\n",
    "where \n",
    "<br>\n",
    "GHG emissions = amount of GHGs released as a result of fire [kgton of GHG]; \n",
    "<br>\n",
    "A = burnt area [ha], provided by input data (EFFIS) \n",
    "<br>\n",
    "B = mass of available fuels, in [kg dry matter ha-1]\n",
    "<br>\n",
    "C = combustion factor, portion of biomass combusted [dimensionless]\n",
    "<br>\n",
    "D = emission factor [g GHG kg–1] for each GHG compound. \n",
    "\n",
    "**Reference**\n",
    "<br>\n",
    "Chiriaco, M.V., Perugini, L., Cimini, D., D’Amato, E., Valentini, R., Bovio, G., Corona, P. and Barbati, A., 2013. Comparison of approaches for reporting forest fire-related biomass loss and greenhouse gas emissions in southern Europe. _International Journal of Wildland Fire_, 22(6), pp.730-738.\n",
    "\n",
    "\n"
   ]
  },
  {
   "cell_type": "code",
   "execution_count": 2,
   "id": "556ec417-e1fe-4df7-97bb-65cb91e24a86",
   "metadata": {},
   "outputs": [],
   "source": [
    "##### IMPORT LIBRARIES ########\n",
    "###############################\n",
    "import sys\n",
    "sys.path.insert(1, './scripts')\n",
    "from ghg_fire_emissions_functions import *\n",
    "import numpy as np"
   ]
  },
  {
   "cell_type": "code",
   "execution_count": 3,
   "id": "4d21b893-ca5e-42e1-9578-014864a74126",
   "metadata": {},
   "outputs": [],
   "source": [
    "##### LOCATION OF INPUT TABLES ########\n",
    "#######################################\n",
    "#EFFIS data on burnt area\n",
    "effis_table = '../data/effis_shapefile_downloaded_6Dec23/modis.ba.poly.shp'\n",
    "#BIOMASS\n",
    "biomass_table = \"../data/INFC2015_EFFIS_merged.csv\"\n",
    "#EFFIS_BOVIO class\n",
    "effis_bovio_conversion_table = \"../data/eFFIS_bovio_2007_forest_classes.csv\"\n",
    "#SCORCH HEIGHT\n",
    "fire_damage_table = \"../data/scorch_height_bovio_2007.csv\"\n",
    "#SCORCH HEIGHT\n",
    "emission_factors_table = \"../data/ghg_emission_factors.csv\""
   ]
  },
  {
   "cell_type": "code",
   "execution_count": 5,
   "id": "489bbae1-b7ad-4c90-bc8c-570e8ec63a77",
   "metadata": {},
   "outputs": [],
   "source": [
    "##### PARAMETERS OF CHOICE ########\n",
    "#######################################\n",
    "fire_id = None\n",
    "year = 2021\n",
    "country = \"IT\" \n",
    "region = \"Calabria\"\n",
    "province = \"Cosenza\" \n",
    "commune = None\n",
    "scorch_height = None\n",
    "\n",
    "forest_types = [\"BROADLEA\",\"CONIFER\",\"SCLEROPH\",\"TRANSIT\"]"
   ]
  },
  {
   "cell_type": "code",
   "execution_count": 6,
   "id": "73ae5354-9ca7-4f15-b334-f97e91562a45",
   "metadata": {},
   "outputs": [],
   "source": [
    "######## GHG CALCULATION ################\n",
    "#######################################\n",
    "\n",
    "# STEP 1. Get total burnt area (A) for each vegetation type\n",
    "# In this example, we are choosing EFFIS data. First, we need to filter EFFIS by selecting columns corresponding to our chosen parameters\n",
    "burnt_area_data = get_effis_data(effis_table,ID=fire_id,YEAR=year,COUNTRY=country,PROVINCE=province,COMMUNE=commune)\n",
    "# get total burnt area for each fire event, organised by forest classes\n",
    "A = get_total_burnt_area(burnt_area_data,forest_types)\n",
    "\n",
    "# STEP 2. Get biomass of available fuel (B) for each vegetation type\n",
    "B = get_biomass(biomass_table,region)\n",
    "\n",
    "# STEP 3. Get combustion factor (C) for each vegetation type\n",
    "C = get_combustion_factor(effis_bovio_conversion_table,fire_damage_table,scorch_height)\n",
    "\n",
    "# STEP 4. Calculate total GHG emissions from emission factors\n",
    "ghg = get_total_annual_GHG_emissions(A,B,C,emission_factors_table,forest_types)"
   ]
  },
  {
   "cell_type": "code",
   "execution_count": 7,
   "id": "77d15c47-e109-4809-bcfc-1a74492ce1b5",
   "metadata": {},
   "outputs": [
    {
     "name": "stdout",
     "output_type": "stream",
     "text": [
      "total GHG emissions for the year 2021 in Cosenza province: 1253.21 Kton CO2eq\n"
     ]
    }
   ],
   "source": [
    "#check Total GHG per year\n",
    "print(\"total GHG emissions for the year \" + str(year)  +\" in \" + str(province) +\" province: \" + str(np.round(ghg,2))+ \" Kton CO2eq\")"
   ]
  }
 ],
 "metadata": {
  "kernelspec": {
   "display_name": "cmcc",
   "language": "python",
   "name": "cmcc"
  },
  "language_info": {
   "codemirror_mode": {
    "name": "ipython",
    "version": 3
   },
   "file_extension": ".py",
   "mimetype": "text/x-python",
   "name": "python",
   "nbconvert_exporter": "python",
   "pygments_lexer": "ipython3",
   "version": "3.12.0"
  }
 },
 "nbformat": 4,
 "nbformat_minor": 5
}
